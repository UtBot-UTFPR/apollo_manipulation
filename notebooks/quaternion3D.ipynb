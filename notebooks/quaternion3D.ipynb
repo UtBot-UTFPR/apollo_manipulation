{
 "cells": [
  {
   "cell_type": "code",
   "execution_count": 61,
   "metadata": {},
   "outputs": [],
   "source": [
    "import sympy as sp\n",
    "from geometry_msgs.msg import Point"
   ]
  },
  {
   "cell_type": "code",
   "execution_count": 62,
   "metadata": {},
   "outputs": [],
   "source": [
    "# Variáveis\n",
    "θ1, θ2 = sp.symbols(\"θ1, θ2\")\n",
    "λ = sp.symbols(\"λ\")\n",
    "Δ = sp.symbols(\"Δ\")\n",
    "v = sp.symbols(\"v\")\n",
    "L_PUN = sp.symbols('L_PUN')\n",
    "x_goal, y_goal, z_goal = sp.symbols('x_goal y_goal z_goal')"
   ]
  },
  {
   "cell_type": "code",
   "execution_count": 35,
   "metadata": {},
   "outputs": [
    {
     "data": {
      "text/latex": [
       "$\\displaystyle \\frac{\\cos{\\left(λ \\right)}}{2} + 0 i + 0 j + \\frac{\\sin{\\left(λ \\right)}}{2} k$"
      ],
      "text/plain": [
       "cos(λ)/2 + 0*i + 0*j + sin(λ)/2*k"
      ]
     },
     "metadata": {},
     "output_type": "display_data"
    }
   ],
   "source": [
    "# Rotação do corpo em torno de yaw (λ)\n",
    "q_corpo = sp.Quaternion(sp.cos(λ)/2, 0, 0, sp.sin(λ)/2) # Quaternion de rotação do corpo em yaw\n",
    "display(q_corpo)"
   ]
  },
  {
   "cell_type": "code",
   "execution_count": 36,
   "metadata": {},
   "outputs": [
    {
     "data": {
      "text/latex": [
       "$\\displaystyle \\frac{\\cos{\\left(θ1 \\right)}}{2} + 0 i + \\frac{\\sin{\\left(θ1 \\right)}}{2} j + 0 k$"
      ],
      "text/plain": [
       "cos(θ1)/2 + 0*i + sin(θ1)/2*j + 0*k"
      ]
     },
     "metadata": {},
     "output_type": "display_data"
    }
   ],
   "source": [
    "# Rotação do ombro em torno de pitch (θ1)\n",
    "q_ombro = sp.Quaternion(sp.cos(θ1)/2, 0, sp.sin(θ1)/2, 0) # Quaternion de rotação do ombro\n",
    "display(q_ombro)"
   ]
  },
  {
   "cell_type": "code",
   "execution_count": 37,
   "metadata": {},
   "outputs": [
    {
     "data": {
      "text/latex": [
       "$\\displaystyle \\frac{\\cos{\\left(θ2 \\right)}}{2} + 0 i + \\frac{\\sin{\\left(θ2 \\right)}}{2} j + 0 k$"
      ],
      "text/plain": [
       "cos(θ2)/2 + 0*i + sin(θ2)/2*j + 0*k"
      ]
     },
     "metadata": {},
     "output_type": "display_data"
    }
   ],
   "source": [
    "# Rotação do cotovelo em torno de pitch (θ2)\n",
    "q_cotovelo = sp.Quaternion(sp.cos(θ2)/2, 0, sp.sin(θ2)/2, 0) # Quaternion de rotação do cotovelo\n",
    "display(q_cotovelo)"
   ]
  },
  {
   "cell_type": "code",
   "execution_count": 38,
   "metadata": {},
   "outputs": [
    {
     "data": {
      "text/latex": [
       "$\\displaystyle \\frac{\\cos{\\left(θ1 + θ2 \\right)}}{4} + 0 i + \\frac{\\sin{\\left(θ1 + θ2 \\right)}}{4} j + 0 k$"
      ],
      "text/plain": [
       "cos(θ1 + θ2)/4 + 0*i + sin(θ1 + θ2)/4*j + 0*k"
      ]
     },
     "metadata": {},
     "output_type": "display_data"
    }
   ],
   "source": [
    "# Rotação do braço (ombro + cotovelo)\n",
    "q_braço = q_ombro * q_cotovelo # Quaternion de rotação do braço (sem punho)\n",
    "q_braço = q_braço.simplify()\n",
    "display(q_braço)"
   ]
  },
  {
   "cell_type": "code",
   "execution_count": 39,
   "metadata": {},
   "outputs": [
    {
     "data": {
      "text/latex": [
       "$\\displaystyle \\frac{\\cos{\\left(λ \\right)} \\cos{\\left(θ1 + θ2 \\right)}}{8} + - \\frac{\\sin{\\left(λ \\right)} \\sin{\\left(θ1 + θ2 \\right)}}{8} i + \\frac{\\sin{\\left(θ1 + θ2 \\right)} \\cos{\\left(λ \\right)}}{8} j + \\frac{\\sin{\\left(λ \\right)} \\cos{\\left(θ1 + θ2 \\right)}}{8} k$"
      ],
      "text/plain": [
       "cos(λ)*cos(θ1 + θ2)/8 + (-sin(λ)*sin(θ1 + θ2)/8)*i + sin(θ1 + θ2)*cos(λ)/8*j + sin(λ)*cos(θ1 + θ2)/8*k"
      ]
     },
     "metadata": {},
     "output_type": "display_data"
    }
   ],
   "source": [
    "# Rotação completa (corpo em yaw + ajuste do braço)\n",
    "q_completo = q_corpo * q_braço\n",
    "display(q_completo)"
   ]
  },
  {
   "cell_type": "code",
   "execution_count": 41,
   "metadata": {},
   "outputs": [
    {
     "data": {
      "text/latex": [
       "$\\displaystyle \\cos{\\left(\\frac{Δ}{2} \\right)} + 0 i + \\sin{\\left(\\frac{Δ}{2} \\right)} j + 0 k$"
      ],
      "text/plain": [
       "cos(Δ/2) + 0*i + sin(Δ/2)*j + 0*k"
      ]
     },
     "metadata": {},
     "output_type": "display_data"
    }
   ],
   "source": [
    "# Rotação de Δ em torno de pitch\n",
    "q_Δ = sp.Quaternion(sp.cos(Δ/2), 0, sp.sin(Δ/2), 0)\n",
    "display(q_Δ)"
   ]
  },
  {
   "cell_type": "code",
   "execution_count": 67,
   "metadata": {},
   "outputs": [
    {
     "data": {
      "text/latex": [
       "$\\displaystyle \\cos{\\left(\\frac{Δ}{2} \\right)} + 0 i + \\sin{\\left(\\frac{Δ}{2} \\right)} j + 0 k = \\frac{\\cos{\\left(θ1 + θ2 \\right)}}{4} + 0 i + \\frac{\\sin{\\left(θ1 + θ2 \\right)}}{4} j + 0 k$"
      ],
      "text/plain": [
       "Eq(cos(Δ/2) + 0*i + sin(Δ/2)*j + 0*k, cos(θ1 + θ2)/4 + 0*i + sin(θ1 + θ2)/4*j + 0*k)"
      ]
     },
     "metadata": {},
     "output_type": "display_data"
    }
   ],
   "source": [
    "# Considerando que q_braço = q(Δ, <0, 1, 0>)\n",
    "eq_Δ = sp.Eq(q_braço, q_Δ).simplify()\n",
    "display(eq_Δ)"
   ]
  },
  {
   "cell_type": "code",
   "execution_count": 68,
   "metadata": {},
   "outputs": [
    {
     "data": {
      "text/latex": [
       "$\\displaystyle \\cos{\\left(\\frac{Δ}{2} \\right)} = \\frac{\\cos{\\left(θ1 + θ2 \\right)}}{4}$"
      ],
      "text/plain": [
       "Eq(cos(Δ/2), cos(θ1 + θ2)/4)"
      ]
     },
     "metadata": {},
     "output_type": "display_data"
    },
    {
     "data": {
      "text/latex": [
       "$\\displaystyle \\sin{\\left(\\frac{Δ}{2} \\right)} = \\frac{\\sin{\\left(θ1 + θ2 \\right)}}{4}$"
      ],
      "text/plain": [
       "Eq(sin(Δ/2), sin(θ1 + θ2)/4)"
      ]
     },
     "metadata": {},
     "output_type": "display_data"
    }
   ],
   "source": [
    "# Equações obtidas de q_braço = q(Δ, <0, 1, 0>)\n",
    "w_L, y_L = eq_Δ.lhs.a, eq_Δ.lhs.c\n",
    "w_R, y_R = eq_Δ.rhs.a, eq_Δ.rhs.c\n",
    "eq_Δ_w = sp.Eq(w_L, w_R)\n",
    "eq_Δ_x = sp.Eq(y_L, y_R)\n",
    "display(eq_Δ_w, eq_Δ_x)"
   ]
  },
  {
   "cell_type": "code",
   "execution_count": 50,
   "metadata": {},
   "outputs": [
    {
     "data": {
      "text/latex": [
       "$\\displaystyle \\sqrt{z_{goal}^{2} + \\left(- L_{PUN} + x_{goal}\\right)^{2}}$"
      ],
      "text/plain": [
       "sqrt(z_goal**2 + (-L_PUN + x_goal)**2)"
      ]
     },
     "metadata": {},
     "output_type": "display_data"
    }
   ],
   "source": [
    "# v é o vetor que aponta para o offsetGoal\n",
    "v = sp.sqrt(z_goal**2 + (x_goal-L_PUN)**2)\n",
    "display(v)"
   ]
  },
  {
   "cell_type": "code",
   "execution_count": 51,
   "metadata": {},
   "outputs": [
    {
     "data": {
      "text/latex": [
       "$\\displaystyle \\operatorname{asin}{\\left(\\frac{z_{goal}}{\\sqrt{z_{goal}^{2} + \\left(- L_{PUN} + x_{goal}\\right)^{2}}} \\right)}$"
      ],
      "text/plain": [
       "asin(z_goal/sqrt(z_goal**2 + (-L_PUN + x_goal)**2))"
      ]
     },
     "metadata": {},
     "output_type": "display_data"
    }
   ],
   "source": [
    "# Considerando que Δ = asin(goal.z, v)\n",
    "val_Δ = sp.asin(z_goal / v)\n",
    "display(val_Δ)"
   ]
  },
  {
   "cell_type": "code",
   "execution_count": 53,
   "metadata": {},
   "outputs": [
    {
     "data": {
      "text/latex": [
       "$\\displaystyle \\cos{\\left(\\frac{Δ}{2} \\right)} = \\frac{\\cos{\\left(θ1 + θ2 \\right)}}{4}$"
      ],
      "text/plain": [
       "Eq(cos(Δ/2), cos(θ1 + θ2)/4)"
      ]
     },
     "metadata": {},
     "output_type": "display_data"
    },
    {
     "data": {
      "text/latex": [
       "$\\displaystyle \\sin{\\left(\\frac{Δ}{2} \\right)} = \\frac{\\sin{\\left(θ1 + θ2 \\right)}}{4}$"
      ],
      "text/plain": [
       "Eq(sin(Δ/2), sin(θ1 + θ2)/4)"
      ]
     },
     "metadata": {},
     "output_type": "display_data"
    }
   ],
   "source": [
    "# Sistema\n",
    "system = (eq_Δ_w, eq_Δ_x)\n",
    "# system = (eq_Δ_w.subs(Δ, val_Δ).simplify(), eq_Δ_x.subs(Δ, val_Δ).simplify())\n",
    "display(system[0], system[1])"
   ]
  },
  {
   "cell_type": "code",
   "execution_count": 17,
   "metadata": {},
   "outputs": [],
   "source": [
    "# Cinemática direta\n",
    "# set_OMB = 30\n",
    "# set_COT = 60\n",
    "# sub = [None, None]\n",
    "# sub[0] = system[0].subs(θ1, set_OMB).subs(θ2, set_COT)\n",
    "# sub[1] = system[1].subs(θ1, set_OMB).subs(θ2, set_COT)\n",
    "# display(sub[0], sub[1])"
   ]
  },
  {
   "cell_type": "code",
   "execution_count": 66,
   "metadata": {},
   "outputs": [
    {
     "data": {
      "text/latex": [
       "$\\displaystyle 0.92280495757596 = \\frac{\\cos{\\left(θ1 + θ2 \\right)}}{4}$"
      ],
      "text/plain": [
       "Eq(0.92280495757596, cos(θ1 + θ2)/4)"
      ]
     },
     "metadata": {},
     "output_type": "display_data"
    },
    {
     "data": {
      "text/latex": [
       "$\\displaystyle 0.38526745291191 = \\frac{\\sin{\\left(θ1 + θ2 \\right)}}{4}$"
      ],
      "text/plain": [
       "Eq(0.38526745291191, sin(θ1 + θ2)/4)"
      ]
     },
     "metadata": {},
     "output_type": "display_data"
    },
    {
     "data": {
      "text/plain": [
       "[]"
      ]
     },
     "metadata": {},
     "output_type": "display_data"
    }
   ],
   "source": [
    "# Cinemática inversa\n",
    "length_OMB = 23.5\n",
    "length_COT = 24.5\n",
    "length_PUN = 6.5\n",
    "goal = Point(39.101, 0.0, 32.968)\n",
    "sub = [None, None]\n",
    "sub[0] = system[0].subs(Δ, val_Δ).subs(z_goal, goal.z).subs(x_goal, goal.x).subs(L_PUN, length_PUN)\n",
    "sub[1] = system[1].subs(Δ, val_Δ).subs(z_goal, goal.z).subs(x_goal, goal.x).subs(L_PUN, length_PUN)\n",
    "display(sub[0], sub[1])\n",
    "sol = sp.solve((sub[0], sub[1]), (θ1, θ2))\n",
    "display(sol)"
   ]
  },
  {
   "cell_type": "code",
   "execution_count": 64,
   "metadata": {},
   "outputs": [
    {
     "data": {
      "text/plain": [
       "' \\n    TODO\\n    - Corrigir absurdo na cinemática inversa\\n    - Funçoes do sympy pra construir os quaternions\\n'"
      ]
     },
     "execution_count": 64,
     "metadata": {},
     "output_type": "execute_result"
    }
   ],
   "source": [
    "''' \n",
    "    TODO\n",
    "    - Corrigir absurdo na cinemática inversa\n",
    "    - Funçoes do sympy pra construir os quaternions\n",
    "'''"
   ]
  }
 ],
 "metadata": {
  "kernelspec": {
   "display_name": "Python 3.8.10 64-bit",
   "language": "python",
   "name": "python3"
  },
  "language_info": {
   "codemirror_mode": {
    "name": "ipython",
    "version": 3
   },
   "file_extension": ".py",
   "mimetype": "text/x-python",
   "name": "python",
   "nbconvert_exporter": "python",
   "pygments_lexer": "ipython3",
   "version": "3.8.10"
  },
  "orig_nbformat": 4,
  "vscode": {
   "interpreter": {
    "hash": "916dbcbb3f70747c44a77c7bcd40155683ae19c65e1c03b4aa3499c5328201f1"
   }
  }
 },
 "nbformat": 4,
 "nbformat_minor": 2
}
