{
 "cells": [
  {
   "cell_type": "code",
   "execution_count": 1,
   "metadata": {},
   "outputs": [],
   "source": [
    "import sympy as sp\n",
    "from geometry_msgs.msg import Point"
   ]
  },
  {
   "cell_type": "code",
   "execution_count": 2,
   "metadata": {},
   "outputs": [],
   "source": [
    "length_OMB = 23.5\n",
    "length_COT = 24.5\n",
    "length_PUN = 6.5"
   ]
  },
  {
   "cell_type": "code",
   "execution_count": 3,
   "metadata": {},
   "outputs": [],
   "source": [
    "# Variáveis\n",
    "θ1, θ2, λ, Δ, v, o, c = sp.symbols('θ1 θ2 λ Δ v o c')"
   ]
  },
  {
   "cell_type": "code",
   "execution_count": 4,
   "metadata": {},
   "outputs": [
    {
     "data": {
      "text/latex": [
       "$\\displaystyle \\frac{\\cos{\\left(λ \\right)}}{2} + 0 i + 0 j + \\frac{\\sin{\\left(λ \\right)}}{2} k$"
      ],
      "text/plain": [
       "cos(λ)/2 + 0*i + 0*j + sin(λ)/2*k"
      ]
     },
     "metadata": {},
     "output_type": "display_data"
    }
   ],
   "source": [
    "# Rotação do corpo em torno de yaw (λ)\n",
    "q_corpo = sp.Quaternion(sp.cos(λ)/2, 0, 0, sp.sin(λ)/2) # Quaternion de rotação do corpo em yaw\n",
    "display(q_corpo)"
   ]
  },
  {
   "cell_type": "code",
   "execution_count": 5,
   "metadata": {},
   "outputs": [
    {
     "data": {
      "text/latex": [
       "$\\displaystyle \\frac{\\cos{\\left(θ1 \\right)}}{2} + \\frac{\\sin{\\left(θ1 \\right)}}{2} i + 0 j + 0 k$"
      ],
      "text/plain": [
       "cos(θ1)/2 + sin(θ1)/2*i + 0*j + 0*k"
      ]
     },
     "metadata": {},
     "output_type": "display_data"
    }
   ],
   "source": [
    "# Rotação do ombro\n",
    "q_ombro = sp.Quaternion(sp.cos(θ1)/2, sp.sin(θ1)/2, 0, 0) # Quaternion de rotação do ombro\n",
    "display(q_ombro)"
   ]
  },
  {
   "cell_type": "code",
   "execution_count": 6,
   "metadata": {},
   "outputs": [
    {
     "data": {
      "text/latex": [
       "$\\displaystyle \\frac{\\cos{\\left(θ2 \\right)}}{2} + \\frac{\\sin{\\left(θ2 \\right)}}{2} i + 0 j + 0 k$"
      ],
      "text/plain": [
       "cos(θ2)/2 + sin(θ2)/2*i + 0*j + 0*k"
      ]
     },
     "metadata": {},
     "output_type": "display_data"
    }
   ],
   "source": [
    "# Rotação do cotovelo\n",
    "q_cotovelo = sp.Quaternion(sp.cos(θ2)/2, sp.sin(θ2)/2, 0, 0) # Quaternion de rotação do cotovelo\n",
    "display(q_cotovelo)"
   ]
  },
  {
   "cell_type": "code",
   "execution_count": 7,
   "metadata": {},
   "outputs": [
    {
     "data": {
      "text/latex": [
       "$\\displaystyle \\left(- \\frac{\\sin{\\left(θ1 \\right)} \\sin{\\left(θ2 \\right)}}{4} + \\frac{\\cos{\\left(θ1 \\right)} \\cos{\\left(θ2 \\right)}}{4}\\right) + \\left(\\frac{\\sin{\\left(θ1 \\right)} \\cos{\\left(θ2 \\right)}}{4} + \\frac{\\sin{\\left(θ2 \\right)} \\cos{\\left(θ1 \\right)}}{4}\\right) i + 0 j + 0 k$"
      ],
      "text/plain": [
       "(-sin(θ1)*sin(θ2)/4 + cos(θ1)*cos(θ2)/4) + (sin(θ1)*cos(θ2)/4 + sin(θ2)*cos(θ1)/4)*i + 0*j + 0*k"
      ]
     },
     "metadata": {},
     "output_type": "display_data"
    }
   ],
   "source": [
    "# Rotação do braço (ombro + cotovelo)\n",
    "q_braço = q_ombro * q_cotovelo # Quaternion de rotação do braço (sem punho)\n",
    "display(q_braço)"
   ]
  },
  {
   "cell_type": "code",
   "execution_count": 8,
   "metadata": {},
   "outputs": [
    {
     "data": {
      "text/latex": [
       "$\\displaystyle \\frac{\\left(- \\frac{\\sin{\\left(θ1 \\right)} \\sin{\\left(θ2 \\right)}}{4} + \\frac{\\cos{\\left(θ1 \\right)} \\cos{\\left(θ2 \\right)}}{4}\\right) \\cos{\\left(λ \\right)}}{2} + \\frac{\\left(\\frac{\\sin{\\left(θ1 \\right)} \\cos{\\left(θ2 \\right)}}{4} + \\frac{\\sin{\\left(θ2 \\right)} \\cos{\\left(θ1 \\right)}}{4}\\right) \\cos{\\left(λ \\right)}}{2} i + \\frac{\\left(\\frac{\\sin{\\left(θ1 \\right)} \\cos{\\left(θ2 \\right)}}{4} + \\frac{\\sin{\\left(θ2 \\right)} \\cos{\\left(θ1 \\right)}}{4}\\right) \\sin{\\left(λ \\right)}}{2} j + \\frac{\\left(- \\frac{\\sin{\\left(θ1 \\right)} \\sin{\\left(θ2 \\right)}}{4} + \\frac{\\cos{\\left(θ1 \\right)} \\cos{\\left(θ2 \\right)}}{4}\\right) \\sin{\\left(λ \\right)}}{2} k$"
      ],
      "text/plain": [
       "(-sin(θ1)*sin(θ2)/4 + cos(θ1)*cos(θ2)/4)*cos(λ)/2 + (sin(θ1)*cos(θ2)/4 + sin(θ2)*cos(θ1)/4)*cos(λ)/2*i + (sin(θ1)*cos(θ2)/4 + sin(θ2)*cos(θ1)/4)*sin(λ)/2*j + (-sin(θ1)*sin(θ2)/4 + cos(θ1)*cos(θ2)/4)*sin(λ)/2*k"
      ]
     },
     "metadata": {},
     "output_type": "display_data"
    }
   ],
   "source": [
    "# Rotação completa (corpo em yaw + ajuste do braço)\n",
    "q_completo = q_corpo * q_braço\n",
    "display(q_completo)"
   ]
  },
  {
   "cell_type": "code",
   "execution_count": 9,
   "metadata": {},
   "outputs": [
    {
     "data": {
      "text/latex": [
       "$\\displaystyle \\cos{\\left(\\frac{Δ}{2} \\right)} + \\sin{\\left(\\frac{Δ}{2} \\right)} i + 0 j + 0 k$"
      ],
      "text/plain": [
       "cos(Δ/2) + sin(Δ/2)*i + 0*j + 0*k"
      ]
     },
     "metadata": {},
     "output_type": "display_data"
    }
   ],
   "source": [
    "# Rotação de Δ\n",
    "q_Δ = sp.Quaternion(sp.cos(Δ/2), sp.sin(Δ/2), 0, 0)\n",
    "display(q_Δ)\n"
   ]
  },
  {
   "cell_type": "code",
   "execution_count": 10,
   "metadata": {},
   "outputs": [
    {
     "data": {
      "text/latex": [
       "$\\displaystyle \\cos{\\left(\\frac{Δ}{2} \\right)} + \\sin{\\left(\\frac{Δ}{2} \\right)} i + 0 j + 0 k = \\frac{\\cos{\\left(θ1 + θ2 \\right)}}{4} + \\frac{\\sin{\\left(θ1 + θ2 \\right)}}{4} i + 0 j + 0 k$"
      ],
      "text/plain": [
       "Eq(cos(Δ/2) + sin(Δ/2)*i + 0*j + 0*k, cos(θ1 + θ2)/4 + sin(θ1 + θ2)/4*i + 0*j + 0*k)"
      ]
     },
     "metadata": {},
     "output_type": "display_data"
    }
   ],
   "source": [
    "# Considerando que q_braço = q(Δ, <1, 0, 0>)\n",
    "eq_Δ = sp.Eq(q_braço, q_Δ).simplify()\n",
    "display(eq_Δ)"
   ]
  },
  {
   "cell_type": "code",
   "execution_count": 11,
   "metadata": {},
   "outputs": [
    {
     "data": {
      "text/latex": [
       "$\\displaystyle \\cos{\\left(\\frac{Δ}{2} \\right)} = \\frac{\\cos{\\left(θ1 + θ2 \\right)}}{4}$"
      ],
      "text/plain": [
       "Eq(cos(Δ/2), cos(θ1 + θ2)/4)"
      ]
     },
     "metadata": {},
     "output_type": "display_data"
    },
    {
     "data": {
      "text/latex": [
       "$\\displaystyle \\sin{\\left(\\frac{Δ}{2} \\right)} = \\frac{\\sin{\\left(θ1 + θ2 \\right)}}{4}$"
      ],
      "text/plain": [
       "Eq(sin(Δ/2), sin(θ1 + θ2)/4)"
      ]
     },
     "metadata": {},
     "output_type": "display_data"
    }
   ],
   "source": [
    "# Equações obtidas de q_braço = q(Δ, <1, 0, 0>)\n",
    "w_L, x_L = eq_Δ.lhs.a, eq_Δ.lhs.b\n",
    "w_R, x_R = eq_Δ.rhs.a, eq_Δ.rhs.b\n",
    "eq_Δ_w = sp.Eq(w_L, w_R)\n",
    "eq_Δ_x = sp.Eq(x_L, x_R)\n",
    "display(eq_Δ_w, eq_Δ_x)"
   ]
  },
  {
   "cell_type": "code",
   "execution_count": 12,
   "metadata": {},
   "outputs": [
    {
     "data": {
      "text/latex": [
       "$\\displaystyle \\operatorname{acos}{\\left(\\frac{- c^{2} + o^{2} + v^{2}}{2 o v} \\right)}$"
      ],
      "text/plain": [
       "acos((-c**2 + o**2 + v**2)/(2*o*v))"
      ]
     },
     "metadata": {},
     "output_type": "display_data"
    }
   ],
   "source": [
    "# α = acos v² + o² - (c²/2vo)\n",
    "α = sp.acos((v**2+o**2-c**2)/(2*v*o))                        #.subs({c:length_COT, o:length_OMB})\n",
    "display(α)"
   ]
  },
  {
   "cell_type": "code",
   "execution_count": 13,
   "metadata": {},
   "outputs": [
    {
     "data": {
      "text/latex": [
       "$\\displaystyle \\cos{\\left(\\frac{θ1}{2} - \\frac{\\operatorname{acos}{\\left(\\frac{- c^{2} + o^{2} + v^{2}}{2 o v} \\right)}}{2} \\right)} = \\frac{\\cos{\\left(θ1 + θ2 \\right)}}{4}$"
      ],
      "text/plain": [
       "Eq(cos(θ1/2 - acos((-c**2 + o**2 + v**2)/(2*o*v))/2), cos(θ1 + θ2)/4)"
      ]
     },
     "metadata": {},
     "output_type": "display_data"
    },
    {
     "data": {
      "text/latex": [
       "$\\displaystyle \\sin{\\left(\\frac{θ1}{2} - \\frac{\\operatorname{acos}{\\left(\\frac{- c^{2} + o^{2} + v^{2}}{2 o v} \\right)}}{2} \\right)} = \\frac{\\sin{\\left(θ1 + θ2 \\right)}}{4}$"
      ],
      "text/plain": [
       "Eq(sin(θ1/2 - acos((-c**2 + o**2 + v**2)/(2*o*v))/2), sin(θ1 + θ2)/4)"
      ]
     },
     "metadata": {},
     "output_type": "display_data"
    }
   ],
   "source": [
    "# Considerando que Δ = θ1 - α\n",
    "system = [eq_Δ_w, eq_Δ_x]\n",
    "system[0] = system[0].subs(Δ, θ1 - α)\n",
    "system[1] = system[1].subs(Δ, θ1 - α)\n",
    "display(system[0], system[1])"
   ]
  },
  {
   "cell_type": "code",
   "execution_count": 14,
   "metadata": {},
   "outputs": [],
   "source": [
    "# sp.solve((system[0], system[1]))"
   ]
  }
 ],
 "metadata": {
  "kernelspec": {
   "display_name": "Python 3.8.10 64-bit",
   "language": "python",
   "name": "python3"
  },
  "language_info": {
   "codemirror_mode": {
    "name": "ipython",
    "version": 3
   },
   "file_extension": ".py",
   "mimetype": "text/x-python",
   "name": "python",
   "nbconvert_exporter": "python",
   "pygments_lexer": "ipython3",
   "version": "3.8.10"
  },
  "orig_nbformat": 4,
  "vscode": {
   "interpreter": {
    "hash": "916dbcbb3f70747c44a77c7bcd40155683ae19c65e1c03b4aa3499c5328201f1"
   }
  }
 },
 "nbformat": 4,
 "nbformat_minor": 2
}
