{
 "cells": [
  {
   "cell_type": "code",
   "execution_count": 92,
   "metadata": {},
   "outputs": [],
   "source": [
    "import sympy as sp\n",
    "import math\n",
    "from tf.transformations import euler_from_quaternion\n",
    "from geometry_msgs.msg import Point"
   ]
  },
  {
   "cell_type": "code",
   "execution_count": 149,
   "metadata": {},
   "outputs": [],
   "source": [
    "length_OMB = 23.5\n",
    "length_COT = 24.5\n",
    "length_PUN = 6.5"
   ]
  },
  {
   "cell_type": "code",
   "execution_count": null,
   "metadata": {},
   "outputs": [],
   "source": [
    "θ1, θ2, γ, λ, Δ = sp.symbols('θ1 θ2 γ λ Δ')\n",
    "x_goal, y_goal, z_goal = sp.symbols('x_goal y_goal z_goal')\n",
    "v, L_PUN = sp.symbols(\"v L_PUN\")"
   ]
  },
  {
   "cell_type": "code",
   "execution_count": 139,
   "metadata": {},
   "outputs": [
    {
     "data": {
      "text/latex": [
       "$\\displaystyle \\cos{\\left(\\frac{λ}{2} \\right)} + 0 i + 0 j + \\sin{\\left(\\frac{λ}{2} \\right)} k$"
      ],
      "text/plain": [
       "cos(λ/2) + 0*i + 0*j + sin(λ/2)*k"
      ]
     },
     "metadata": {},
     "output_type": "display_data"
    }
   ],
   "source": [
    "# Rotação do corpo em torno de yaw (λ)\n",
    "q_corpo = sp.Quaternion.from_axis_angle((0, 0, 1), λ)\n",
    "display(q_corpo)"
   ]
  },
  {
   "cell_type": "code",
   "execution_count": 96,
   "metadata": {},
   "outputs": [
    {
     "data": {
      "text/latex": [
       "$\\displaystyle \\cos{\\left(\\frac{θ1}{2} \\right)} + 0 i + \\sin{\\left(\\frac{θ1}{2} \\right)} j + 0 k$"
      ],
      "text/plain": [
       "cos(θ1/2) + 0*i + sin(θ1/2)*j + 0*k"
      ]
     },
     "metadata": {},
     "output_type": "display_data"
    }
   ],
   "source": [
    "# Rotação do ombro em torno de pitch (θ1)\n",
    "q_ombro = sp.Quaternion.from_axis_angle((0, 1, 0), θ1)\n",
    "display(q_ombro)"
   ]
  },
  {
   "cell_type": "code",
   "execution_count": 97,
   "metadata": {},
   "outputs": [
    {
     "data": {
      "text/latex": [
       "$\\displaystyle \\cos{\\left(\\frac{θ2}{2} \\right)} + 0 i + \\sin{\\left(\\frac{θ2}{2} \\right)} j + 0 k$"
      ],
      "text/plain": [
       "cos(θ2/2) + 0*i + sin(θ2/2)*j + 0*k"
      ]
     },
     "metadata": {},
     "output_type": "display_data"
    }
   ],
   "source": [
    "# Rotação do cotovelo em torno de pitch (θ2)\n",
    "q_cotovelo = sp.Quaternion.from_axis_angle((0, 1, 0), θ2)\n",
    "display(q_cotovelo)"
   ]
  },
  {
   "cell_type": "code",
   "execution_count": 80,
   "metadata": {},
   "outputs": [
    {
     "data": {
      "text/latex": [
       "$\\displaystyle \\cos{\\left(\\frac{θ1}{2} + \\frac{θ2}{2} \\right)} + 0 i + \\sin{\\left(\\frac{θ1}{2} + \\frac{θ2}{2} \\right)} j + 0 k$"
      ],
      "text/plain": [
       "cos(θ1/2 + θ2/2) + 0*i + sin(θ1/2 + θ2/2)*j + 0*k"
      ]
     },
     "metadata": {},
     "output_type": "display_data"
    }
   ],
   "source": [
    "# Rotação do braço (ombro + cotovelo)\n",
    "q_braço = q_ombro * q_cotovelo\n",
    "q_braço = q_braço.simplify()\n",
    "display(q_braço)"
   ]
  },
  {
   "cell_type": "code",
   "execution_count": 81,
   "metadata": {},
   "outputs": [
    {
     "data": {
      "text/latex": [
       "$\\displaystyle \\cos{\\left(\\frac{λ}{2} \\right)} \\cos{\\left(\\frac{θ1}{2} + \\frac{θ2}{2} \\right)} + - \\sin{\\left(\\frac{λ}{2} \\right)} \\sin{\\left(\\frac{θ1}{2} + \\frac{θ2}{2} \\right)} i + \\sin{\\left(\\frac{θ1}{2} + \\frac{θ2}{2} \\right)} \\cos{\\left(\\frac{λ}{2} \\right)} j + \\sin{\\left(\\frac{λ}{2} \\right)} \\cos{\\left(\\frac{θ1}{2} + \\frac{θ2}{2} \\right)} k$"
      ],
      "text/plain": [
       "cos(λ/2)*cos(θ1/2 + θ2/2) + (-sin(λ/2)*sin(θ1/2 + θ2/2))*i + sin(θ1/2 + θ2/2)*cos(λ/2)*j + sin(λ/2)*cos(θ1/2 + θ2/2)*k"
      ]
     },
     "metadata": {},
     "output_type": "display_data"
    }
   ],
   "source": [
    "# Rotação completa (corpo em yaw + ajuste do braço)\n",
    "q_completo = q_corpo * q_braço\n",
    "display(q_completo)"
   ]
  },
  {
   "cell_type": "code",
   "execution_count": 98,
   "metadata": {},
   "outputs": [
    {
     "data": {
      "text/latex": [
       "$\\displaystyle \\cos{\\left(\\frac{Δ}{2} \\right)} + 0 i + \\sin{\\left(\\frac{Δ}{2} \\right)} j + 0 k$"
      ],
      "text/plain": [
       "cos(Δ/2) + 0*i + sin(Δ/2)*j + 0*k"
      ]
     },
     "metadata": {},
     "output_type": "display_data"
    }
   ],
   "source": [
    "# Rotação de Δ em torno de pitch\n",
    "q_Δ = sp.Quaternion.from_axis_angle((0, 1, 0), Δ)\n",
    "display(q_Δ)"
   ]
  },
  {
   "cell_type": "code",
   "execution_count": 83,
   "metadata": {},
   "outputs": [
    {
     "data": {
      "text/latex": [
       "$\\displaystyle \\cos{\\left(\\frac{Δ}{2} \\right)} + 0 i + \\sin{\\left(\\frac{Δ}{2} \\right)} j + 0 k = \\cos{\\left(\\frac{θ1}{2} + \\frac{θ2}{2} \\right)} + 0 i + \\sin{\\left(\\frac{θ1}{2} + \\frac{θ2}{2} \\right)} j + 0 k$"
      ],
      "text/plain": [
       "Eq(cos(Δ/2) + 0*i + sin(Δ/2)*j + 0*k, cos(θ1/2 + θ2/2) + 0*i + sin(θ1/2 + θ2/2)*j + 0*k)"
      ]
     },
     "metadata": {},
     "output_type": "display_data"
    }
   ],
   "source": [
    "# Considerando que q_braço = q(Δ, <0, 1, 0>)\n",
    "eq_Δ = sp.Eq(q_braço, q_Δ).simplify()\n",
    "display(eq_Δ)"
   ]
  },
  {
   "cell_type": "code",
   "execution_count": 146,
   "metadata": {},
   "outputs": [
    {
     "data": {
      "text/latex": [
       "$\\displaystyle \\cos{\\left(\\frac{Δ}{2} \\right)} = \\cos{\\left(\\frac{θ1}{2} + \\frac{θ2}{2} \\right)}$"
      ],
      "text/plain": [
       "Eq(cos(Δ/2), cos(θ1/2 + θ2/2))"
      ]
     },
     "metadata": {},
     "output_type": "display_data"
    },
    {
     "data": {
      "text/latex": [
       "$\\displaystyle \\sin{\\left(\\frac{Δ}{2} \\right)} = \\sin{\\left(\\frac{θ1}{2} + \\frac{θ2}{2} \\right)}$"
      ],
      "text/plain": [
       "Eq(sin(Δ/2), sin(θ1/2 + θ2/2))"
      ]
     },
     "metadata": {},
     "output_type": "display_data"
    }
   ],
   "source": [
    "# Equações obtidas de q_braço e considerando que Δ = asin(goal.z, v)\n",
    "w_L, y_L = eq_Δ.lhs.a, eq_Δ.lhs.c\n",
    "w_R, y_R = eq_Δ.rhs.a, eq_Δ.rhs.c\n",
    "eq_Δ_w = sp.Eq(w_L, w_R)#.subs(Δ, sp.asin(z_goal / v))\n",
    "eq_Δ_x = sp.Eq(y_L, y_R)#.subs(Δ, sp.asin(z_goal / v))\n",
    "display(eq_Δ_w, eq_Δ_x)"
   ]
  },
  {
   "cell_type": "code",
   "execution_count": 152,
   "metadata": {},
   "outputs": [
    {
     "data": {
      "text/latex": [
       "$\\displaystyle Δ = θ1 + θ2$"
      ],
      "text/plain": [
       "Eq(Δ, θ1 + θ2)"
      ]
     },
     "metadata": {},
     "output_type": "display_data"
    }
   ],
   "source": [
    "# Equação dos ângulos\n",
    "eq_angulos = sp.Eq(Δ, θ1 + θ2)#.subs(Δ, sp.asin(z_goal / v))\n",
    "display(eq_angulos)"
   ]
  },
  {
   "cell_type": "code",
   "execution_count": 142,
   "metadata": {},
   "outputs": [
    {
     "data": {
      "text/latex": [
       "$\\displaystyle \\sqrt{z_{goal}^{2} + \\left(- L_{PUN} + x_{goal}\\right)^{2}}$"
      ],
      "text/plain": [
       "sqrt(z_goal**2 + (-L_PUN + x_goal)**2)"
      ]
     },
     "metadata": {},
     "output_type": "display_data"
    }
   ],
   "source": [
    "# v é o vetor que aponta para o offsetGoal\n",
    "v = sp.sqrt(z_goal**2 + (x_goal-L_PUN)**2)\n",
    "display(v)"
   ]
  },
  {
   "cell_type": "code",
   "execution_count": 138,
   "metadata": {},
   "outputs": [],
   "source": [
    "# Equações finais\n"
   ]
  },
  {
   "cell_type": "code",
   "execution_count": 148,
   "metadata": {},
   "outputs": [
    {
     "ename": "AttributeError",
     "evalue": "'NoneType' object has no attribute 'subs'",
     "output_type": "error",
     "traceback": [
      "\u001b[0;31m---------------------------------------------------------------------------\u001b[0m",
      "\u001b[0;31mAttributeError\u001b[0m                            Traceback (most recent call last)",
      "\u001b[1;32m/home/driver/catkin_ws/src/manipulator_controller_cpp/notebooks/tests.ipynb Cell 14\u001b[0m in \u001b[0;36m<cell line: 9>\u001b[0;34m()\u001b[0m\n\u001b[1;32m      <a href='vscode-notebook-cell:/home/driver/catkin_ws/src/manipulator_controller_cpp/notebooks/tests.ipynb#ch0000021?line=6'>7</a>\u001b[0m sub \u001b[39m=\u001b[39m [\u001b[39mNone\u001b[39;00m, \u001b[39mNone\u001b[39;00m]\n\u001b[1;32m      <a href='vscode-notebook-cell:/home/driver/catkin_ws/src/manipulator_controller_cpp/notebooks/tests.ipynb#ch0000021?line=7'>8</a>\u001b[0m sub[\u001b[39m0\u001b[39m] \u001b[39m=\u001b[39m system[\u001b[39m0\u001b[39m]\u001b[39m.\u001b[39msubs(z_goal, goal\u001b[39m.\u001b[39mz)\u001b[39m.\u001b[39msubs(x_goal, goal\u001b[39m.\u001b[39mx)\u001b[39m.\u001b[39msubs(L_PUN, length_PUN)\n\u001b[0;32m----> <a href='vscode-notebook-cell:/home/driver/catkin_ws/src/manipulator_controller_cpp/notebooks/tests.ipynb#ch0000021?line=8'>9</a>\u001b[0m sub[\u001b[39m1\u001b[39m] \u001b[39m=\u001b[39m system[\u001b[39m1\u001b[39;49m]\u001b[39m.\u001b[39;49msubs(z_goal, goal\u001b[39m.\u001b[39mz)\u001b[39m.\u001b[39msubs(x_goal, goal\u001b[39m.\u001b[39mx)\u001b[39m.\u001b[39msubs(L_PUN, length_PUN)\n\u001b[1;32m     <a href='vscode-notebook-cell:/home/driver/catkin_ws/src/manipulator_controller_cpp/notebooks/tests.ipynb#ch0000021?line=9'>10</a>\u001b[0m display(sub[\u001b[39m0\u001b[39m], sub[\u001b[39m1\u001b[39m])\n\u001b[1;32m     <a href='vscode-notebook-cell:/home/driver/catkin_ws/src/manipulator_controller_cpp/notebooks/tests.ipynb#ch0000021?line=11'>12</a>\u001b[0m display(sub[\u001b[39m0\u001b[39m]\u001b[39m.\u001b[39mlhs)\n",
      "\u001b[0;31mAttributeError\u001b[0m: 'NoneType' object has no attribute 'subs'"
     ]
    }
   ],
   "source": [
    "# Cinemática inversa (teste)\n",
    "length_OMB = 23.5\n",
    "length_COT = 24.5\n",
    "length_PUN = 6.5\n",
    "goal = Point(39.101, 0.0, 32.968)\n",
    "\n",
    "sub = [None, None]\n",
    "sub[0] = system[0].subs(z_goal, goal.z).subs(x_goal, goal.x).subs(L_PUN, length_PUN)\n",
    "sub[1] = system[1].subs(z_goal, goal.z).subs(x_goal, goal.x).subs(L_PUN, length_PUN)\n",
    "display(sub[0], sub[1])\n",
    "\n",
    "display(sub[0].lhs)\n",
    "\n",
    "# sol = sp.solve((sub[0], sub[1]), (θ1, θ2))\n",
    "# display(sol)\n",
    "\n",
    "# display(sol[0])"
   ]
  }
 ],
 "metadata": {
  "kernelspec": {
   "display_name": "Python 3.8.10 64-bit",
   "language": "python",
   "name": "python3"
  },
  "language_info": {
   "codemirror_mode": {
    "name": "ipython",
    "version": 3
   },
   "file_extension": ".py",
   "mimetype": "text/x-python",
   "name": "python",
   "nbconvert_exporter": "python",
   "pygments_lexer": "ipython3",
   "version": "3.8.10"
  },
  "orig_nbformat": 4,
  "vscode": {
   "interpreter": {
    "hash": "916dbcbb3f70747c44a77c7bcd40155683ae19c65e1c03b4aa3499c5328201f1"
   }
  }
 },
 "nbformat": 4,
 "nbformat_minor": 2
}
