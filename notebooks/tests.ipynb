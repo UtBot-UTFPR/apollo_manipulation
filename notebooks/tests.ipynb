{
 "cells": [
  {
   "cell_type": "code",
   "execution_count": 38,
   "metadata": {},
   "outputs": [],
   "source": [
    "import sympy as sp\n",
    "from geometry_msgs.msg import Point\n",
    "import math"
   ]
  },
  {
   "cell_type": "code",
   "execution_count": 74,
   "metadata": {},
   "outputs": [],
   "source": [
    "θ1, θ2, γ = sp.symbols('θ1 θ2 γ')"
   ]
  },
  {
   "cell_type": "code",
   "execution_count": 75,
   "metadata": {},
   "outputs": [
    {
     "data": {
      "text/latex": [
       "$\\displaystyle \\cos{\\left(γ \\right)} = \\cos{\\left(\\frac{θ1}{2} + \\frac{θ2}{2} \\right)}$"
      ],
      "text/plain": [
       "Eq(cos(γ), cos(θ1/2 + θ2/2))"
      ]
     },
     "metadata": {},
     "output_type": "display_data"
    }
   ],
   "source": [
    "eq1 = sp.Eq(sp.cos(θ2/2)*sp.cos(θ1/2) - sp.sin(θ2/2)*sp.sin(θ1/2), sp.cos(γ)).simplify()\n",
    "display(eq1)"
   ]
  },
  {
   "cell_type": "code",
   "execution_count": 76,
   "metadata": {},
   "outputs": [
    {
     "data": {
      "text/latex": [
       "$\\displaystyle \\sin{\\left(γ \\right)} = \\sin{\\left(\\frac{θ1}{2} + \\frac{θ2}{2} \\right)}$"
      ],
      "text/plain": [
       "Eq(sin(γ), sin(θ1/2 + θ2/2))"
      ]
     },
     "metadata": {},
     "output_type": "display_data"
    }
   ],
   "source": [
    "eq2 = sp.Eq(sp.cos(θ1/2)*sp.sin(θ2/2) + sp.cos(θ2/2)*sp.sin(θ1/2), sp.sin(γ)).simplify()\n",
    "display(eq2)"
   ]
  },
  {
   "cell_type": "code",
   "execution_count": 77,
   "metadata": {},
   "outputs": [],
   "source": [
    "length_OMB = 23.5\n",
    "length_COT = 24.5\n",
    "length_PUN = 6.5\n",
    "correction_OMB = 0.0\n",
    "correction_COT = 0.0\n",
    "correction_PUN = 10.0\n",
    "goal = Point(39.101, 32.968, 0.0)"
   ]
  },
  {
   "cell_type": "code",
   "execution_count": 78,
   "metadata": {},
   "outputs": [],
   "source": [
    "offsetGoal = Point(goal.x - length_PUN, goal.y, goal.z)\n",
    "o = length_OMB\n",
    "c = length_COT\n",
    "v = math.sqrt(pow(offsetGoal.x, 2) + pow(offsetGoal.y, 2))\n",
    "delta = math.asin(offsetGoal.y/v)\n",
    "alpha = math.acos((pow(v,2)+pow(o,2)-pow(c,2))/(2*v*o))\n",
    "beta = math.acos((pow(o,2)+pow(c,2)-pow(v,2))/(2*c*o))\n",
    "cos_gamma = math.cos((delta-alpha)/2)\n",
    "gamma = math.acos(cos_gamma)"
   ]
  },
  {
   "cell_type": "code",
   "execution_count": 80,
   "metadata": {},
   "outputs": [
    {
     "data": {
      "text/plain": [
       "{θ1: 2*γ - θ2}"
      ]
     },
     "execution_count": 80,
     "metadata": {},
     "output_type": "execute_result"
    }
   ],
   "source": [
    "sp.solve((eq1, eq2), (θ1, θ2))"
   ]
  },
  {
   "cell_type": "code",
   "execution_count": null,
   "metadata": {},
   "outputs": [],
   "source": []
  }
 ],
 "metadata": {
  "kernelspec": {
   "display_name": "Python 3.8.10 64-bit",
   "language": "python",
   "name": "python3"
  },
  "language_info": {
   "codemirror_mode": {
    "name": "ipython",
    "version": 3
   },
   "file_extension": ".py",
   "mimetype": "text/x-python",
   "name": "python",
   "nbconvert_exporter": "python",
   "pygments_lexer": "ipython3",
   "version": "3.8.10"
  },
  "orig_nbformat": 4,
  "vscode": {
   "interpreter": {
    "hash": "916dbcbb3f70747c44a77c7bcd40155683ae19c65e1c03b4aa3499c5328201f1"
   }
  }
 },
 "nbformat": 4,
 "nbformat_minor": 2
}
