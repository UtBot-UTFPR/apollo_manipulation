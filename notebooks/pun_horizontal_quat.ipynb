{
 "cells": [
  {
   "cell_type": "code",
   "execution_count": 2,
   "metadata": {},
   "outputs": [],
   "source": [
    "import sympy as sp\n",
    "import math\n",
    "from tf.transformations import euler_from_quaternion\n",
    "from geometry_msgs.msg import Point"
   ]
  },
  {
   "cell_type": "code",
   "execution_count": 3,
   "metadata": {},
   "outputs": [],
   "source": [
    "# Variáveis\n",
    "θ1, θ2, γ, λ, Δ = sp.symbols('θ1 θ2 γ λ Δ')\n",
    "\n",
    "x_goal, y_goal, z_goal = sp.symbols('x_goal y_goal z_goal')\n",
    "\n",
    "v = sp.symbols(\"v\")\n",
    "v_roll, v_pitch, v_yaw = sp.symbols('v_roll v_pitch v_yaw')\n",
    "\n",
    "L_OMB, L_COT, L_PUN = sp.symbols(\"L_OMB, L_COT, L_PUN\")"
   ]
  },
  {
   "cell_type": "code",
   "execution_count": 4,
   "metadata": {},
   "outputs": [
    {
     "data": {
      "text/latex": [
       "$\\displaystyle v_{roll} = \\left( 1, \\  0, \\  0\\right)$"
      ],
      "text/plain": [
       "Eq(v_roll, (1, 0, 0))"
      ]
     },
     "metadata": {},
     "output_type": "display_data"
    },
    {
     "data": {
      "text/latex": [
       "$\\displaystyle v_{pitch} = \\left( 0, \\  1, \\  0\\right)$"
      ],
      "text/plain": [
       "Eq(v_pitch, (0, 1, 0))"
      ]
     },
     "metadata": {},
     "output_type": "display_data"
    },
    {
     "data": {
      "text/latex": [
       "$\\displaystyle v_{yaw} = \\left( 0, \\  0, \\  1\\right)$"
      ],
      "text/plain": [
       "Eq(v_yaw, (0, 0, 1))"
      ]
     },
     "metadata": {},
     "output_type": "display_data"
    }
   ],
   "source": [
    "# Vetores unitários de roll, pitch, yaw\n",
    "v_roll  = (1, 0, 0)\n",
    "v_pitch = (0, 1, 0)\n",
    "v_yaw   = (0, 0, 1)\n",
    "display(sp.Eq(sp.symbols(\"v_roll\"), v_roll))\n",
    "display(sp.Eq(sp.symbols(\"v_pitch\"), v_pitch))\n",
    "display(sp.Eq(sp.symbols(\"v_yaw\"), v_yaw))"
   ]
  },
  {
   "cell_type": "code",
   "execution_count": 5,
   "metadata": {},
   "outputs": [
    {
     "data": {
      "text/latex": [
       "$\\displaystyle v = \\left( x_{goal}, \\  y_{goal}, \\  z_{goal}\\right)$"
      ],
      "text/plain": [
       "Eq(v, (x_goal, y_goal, z_goal))"
      ]
     },
     "metadata": {},
     "output_type": "display_data"
    }
   ],
   "source": [
    "# Vetor v (aponta para o goal)\n",
    "v = sp.Tuple(x_goal, y_goal, z_goal)\n",
    "display(sp.Eq(sp.symbols(\"v\"), v))"
   ]
  },
  {
   "cell_type": "code",
   "execution_count": 6,
   "metadata": {},
   "outputs": [
    {
     "data": {
      "text/latex": [
       "$\\displaystyle v_{norm} = \\sqrt{x_{goal}^{2} + y_{goal}^{2} + z_{goal}^{2}}$"
      ],
      "text/plain": [
       "Eq(v_norm, sqrt(x_goal**2 + y_goal**2 + z_goal**2))"
      ]
     },
     "metadata": {},
     "output_type": "display_data"
    }
   ],
   "source": [
    "# Norma do vetor v\n",
    "v_norm = sp.sqrt(pow(x_goal, 2) + pow(y_goal, 2) + pow(z_goal, 2))\n",
    "display(sp.Eq(sp.symbols(\"v_norm\"), v_norm))"
   ]
  },
  {
   "cell_type": "code",
   "execution_count": 7,
   "metadata": {},
   "outputs": [
    {
     "data": {
      "text/latex": [
       "$\\displaystyle point = \\left( x_{goal}, \\  y_{goal}, \\  z_{goal}\\right)$"
      ],
      "text/plain": [
       "Eq(point, (x_goal, y_goal, z_goal))"
      ]
     },
     "metadata": {},
     "output_type": "display_data"
    },
    {
     "data": {
      "text/latex": [
       "$\\displaystyle axis = \\left( 0, \\  1, \\  0\\right)$"
      ],
      "text/plain": [
       "Eq(axis, (0, 1, 0))"
      ]
     },
     "metadata": {},
     "output_type": "display_data"
    },
    {
     "data": {
      "text/latex": [
       "$\\displaystyle angle = Δ$"
      ],
      "text/plain": [
       "Eq(angle, Δ)"
      ]
     },
     "metadata": {},
     "output_type": "display_data"
    },
    {
     "data": {
      "text/latex": [
       "$\\displaystyle v_{QuatRot} = \\left( \\left(- x_{goal} \\sin{\\left(\\frac{Δ}{2} \\right)} + z_{goal} \\cos{\\left(\\frac{Δ}{2} \\right)}\\right) \\sin{\\left(\\frac{Δ}{2} \\right)} + \\left(x_{goal} \\cos{\\left(\\frac{Δ}{2} \\right)} + z_{goal} \\sin{\\left(\\frac{Δ}{2} \\right)}\\right) \\cos{\\left(\\frac{Δ}{2} \\right)}, \\  y_{goal} \\sin^{2}{\\left(\\frac{Δ}{2} \\right)} + y_{goal} \\cos^{2}{\\left(\\frac{Δ}{2} \\right)}, \\  \\left(- x_{goal} \\sin{\\left(\\frac{Δ}{2} \\right)} + z_{goal} \\cos{\\left(\\frac{Δ}{2} \\right)}\\right) \\cos{\\left(\\frac{Δ}{2} \\right)} - \\left(x_{goal} \\cos{\\left(\\frac{Δ}{2} \\right)} + z_{goal} \\sin{\\left(\\frac{Δ}{2} \\right)}\\right) \\sin{\\left(\\frac{Δ}{2} \\right)}\\right)$"
      ],
      "text/plain": [
       "Eq(v_QuatRot, ((-x_goal*sin(Δ/2) + z_goal*cos(Δ/2))*sin(Δ/2) + (x_goal*cos(Δ/2) + z_goal*sin(Δ/2))*cos(Δ/2), y_goal*sin(Δ/2)**2 + y_goal*cos(Δ/2)**2, (-x_goal*sin(Δ/2) + z_goal*cos(Δ/2))*cos(Δ/2) - (x_goal*cos(Δ/2) + z_goal*sin(Δ/2))*sin(Δ/2)))"
      ]
     },
     "metadata": {},
     "output_type": "display_data"
    }
   ],
   "source": [
    "# Vetor v (com rotação em quaternion)\n",
    "point = v\n",
    "axis  = v_pitch\n",
    "angle = Δ\n",
    "v_QuatRot = sp.Quaternion.rotate_point(point, (axis, angle))\n",
    "display(sp.Eq(sp.symbols(\"point\"), point))\n",
    "display(sp.Eq(sp.symbols(\"axis\"), axis))\n",
    "display(sp.Eq(sp.symbols(\"angle\"), angle))\n",
    "display(sp.Eq(sp.symbols(\"v_QuatRot\"), v_QuatRot))"
   ]
  },
  {
   "cell_type": "code",
   "execution_count": null,
   "metadata": {},
   "outputs": [],
   "source": []
  }
 ],
 "metadata": {
  "kernelspec": {
   "display_name": "Python 3.8.10 64-bit",
   "language": "python",
   "name": "python3"
  },
  "language_info": {
   "codemirror_mode": {
    "name": "ipython",
    "version": 3
   },
   "file_extension": ".py",
   "mimetype": "text/x-python",
   "name": "python",
   "nbconvert_exporter": "python",
   "pygments_lexer": "ipython3",
   "version": "3.8.10"
  },
  "orig_nbformat": 4,
  "vscode": {
   "interpreter": {
    "hash": "916dbcbb3f70747c44a77c7bcd40155683ae19c65e1c03b4aa3499c5328201f1"
   }
  }
 },
 "nbformat": 4,
 "nbformat_minor": 2
}
