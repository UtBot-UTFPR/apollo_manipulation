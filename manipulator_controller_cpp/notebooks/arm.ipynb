{
 "cells": [
  {
   "cell_type": "code",
   "execution_count": 80,
   "metadata": {},
   "outputs": [],
   "source": [
    "import sympy as sp\n",
    "import math\n",
    "from tf.transformations import euler_from_quaternion\n",
    "from geometry_msgs.msg import Point, Vector3"
   ]
  },
  {
   "cell_type": "code",
   "execution_count": 108,
   "metadata": {},
   "outputs": [],
   "source": [
    "length_OMB = 23.5\n",
    "length_COT = 24.5\n",
    "length_PUN = 6.5"
   ]
  },
  {
   "cell_type": "code",
   "execution_count": 109,
   "metadata": {},
   "outputs": [],
   "source": [
    "θ_omb, θ_cot, θ_pun, γ, λ, Δ, θ_v = sp.symbols('θ_omb θ_cot θ_pun γ λ Δ θ_v')\n",
    "x_goal, y_goal, z_goal = sp.symbols('x_goal y_goal z_goal')\n",
    "w_omb, w_cot = sp.symbols('w_omb, w_cot')\n",
    "v, L_PUN = sp.symbols(\"v L_PUN\")"
   ]
  },
  {
   "cell_type": "code",
   "execution_count": 110,
   "metadata": {},
   "outputs": [
    {
     "data": {
      "text/latex": [
       "$\\displaystyle \\left[\\begin{matrix}x_{goal} & y_{goal} & z_{goal}\\end{matrix}\\right]$"
      ],
      "text/plain": [
       "Matrix([[x_goal, y_goal, z_goal]])"
      ]
     },
     "metadata": {},
     "output_type": "display_data"
    }
   ],
   "source": [
    "# Vetor que aponta para o goal\n",
    "v = sp.Matrix([[x_goal, y_goal, z_goal]])\n",
    "display(v)"
   ]
  },
  {
   "cell_type": "code",
   "execution_count": 111,
   "metadata": {},
   "outputs": [
    {
     "data": {
      "text/latex": [
       "$\\displaystyle \\cos{\\left(\\frac{θ_{v}}{2} \\right)} + 0 i + \\sin{\\left(\\frac{θ_{v}}{2} \\right)} j + 0 k$"
      ],
      "text/plain": [
       "cos(θ_v/2) + 0*i + sin(θ_v/2)*j + 0*k"
      ]
     },
     "metadata": {},
     "output_type": "display_data"
    }
   ],
   "source": [
    "# Quaternion de rotação de v\n",
    "q_v = sp.Quaternion.from_axis_angle((0, 1, 0), θ_v)\n",
    "display(q_v)"
   ]
  },
  {
   "cell_type": "code",
   "execution_count": 112,
   "metadata": {},
   "outputs": [
    {
     "data": {
      "text/latex": [
       "$\\displaystyle \\cos{\\left(\\frac{θ_{omb}}{2} \\right)} + 0 i + \\sin{\\left(\\frac{θ_{omb}}{2} \\right)} j + 0 k$"
      ],
      "text/plain": [
       "cos(θ_omb/2) + 0*i + sin(θ_omb/2)*j + 0*k"
      ]
     },
     "metadata": {},
     "output_type": "display_data"
    }
   ],
   "source": [
    "# Quaternion de rotação do ombro\n",
    "q_omb = sp.Quaternion.from_axis_angle((0, 1, 0), θ_omb)\n",
    "display(q_omb)"
   ]
  },
  {
   "cell_type": "code",
   "execution_count": 113,
   "metadata": {},
   "outputs": [
    {
     "data": {
      "text/latex": [
       "$\\displaystyle \\cos{\\left(\\frac{θ_{cot}}{2} \\right)} + 0 i + \\sin{\\left(\\frac{θ_{cot}}{2} \\right)} j + 0 k$"
      ],
      "text/plain": [
       "cos(θ_cot/2) + 0*i + sin(θ_cot/2)*j + 0*k"
      ]
     },
     "metadata": {},
     "output_type": "display_data"
    }
   ],
   "source": [
    "# Quaternion de rotação do cotovelo\n",
    "q_cot = sp.Quaternion.from_axis_angle((0, 1, 0), θ_cot)\n",
    "display(q_cot)"
   ]
  },
  {
   "cell_type": "code",
   "execution_count": 114,
   "metadata": {},
   "outputs": [
    {
     "data": {
      "text/latex": [
       "$\\displaystyle \\cos{\\left(\\frac{θ_{pun}}{2} \\right)} + 0 i + \\sin{\\left(\\frac{θ_{pun}}{2} \\right)} j + 0 k$"
      ],
      "text/plain": [
       "cos(θ_pun/2) + 0*i + sin(θ_pun/2)*j + 0*k"
      ]
     },
     "metadata": {},
     "output_type": "display_data"
    }
   ],
   "source": [
    "# Quaternion de rotação do punho (taken as input)\n",
    "q_pun = sp.Quaternion.from_axis_angle((0, 1, 0), θ_pun)\n",
    "display(q_pun)"
   ]
  },
  {
   "cell_type": "code",
   "execution_count": 143,
   "metadata": {},
   "outputs": [
    {
     "data": {
      "text/latex": [
       "$\\displaystyle θ_{omb} = 2 \\operatorname{acos}{\\left(w_{omb} \\right)}$"
      ],
      "text/plain": [
       "Eq(θ_omb, 2*acos(w_omb))"
      ]
     },
     "metadata": {},
     "output_type": "display_data"
    }
   ],
   "source": [
    "# Equação do ombro\n",
    "eq_θ_omb = sp.Eq(θ_omb, 2 * sp.acos(w_omb))\n",
    "display(eq_θ_omb)"
   ]
  },
  {
   "cell_type": "code",
   "execution_count": 144,
   "metadata": {},
   "outputs": [
    {
     "data": {
      "text/latex": [
       "$\\displaystyle θ_{cot} = 2 \\operatorname{acos}{\\left(w_{cot} \\right)}$"
      ],
      "text/plain": [
       "Eq(θ_cot, 2*acos(w_cot))"
      ]
     },
     "metadata": {},
     "output_type": "display_data"
    }
   ],
   "source": [
    "# Equação\n",
    "eq_θ_cot = sp.Eq(θ_cot, 2 * sp.acos(w_cot))\n",
    "display(eq_θ_cot)"
   ]
  },
  {
   "cell_type": "code",
   "execution_count": 146,
   "metadata": {},
   "outputs": [
    {
     "data": {
      "text/latex": [
       "$\\displaystyle \\left[\\begin{matrix}x_{goal} & y_{goal} & z_{goal}\\end{matrix}\\right] = \\left[\\begin{matrix}24.5 \\cos{\\left(θ_{cot} \\right)} + 23.5 \\cos{\\left(θ_{omb} \\right)} + 6.5 \\cos{\\left(θ_{pun} \\right)} & 0 & 24.5 \\sin{\\left(θ_{cot} \\right)} + 23.5 \\sin{\\left(θ_{omb} \\right)} + 6.5 \\sin{\\left(θ_{pun} \\right)}\\end{matrix}\\right]$"
      ],
      "text/plain": [
       "Eq(Matrix([[x_goal, y_goal, z_goal]]), Matrix([[24.5*cos(θ_cot) + 23.5*cos(θ_omb) + 6.5*cos(θ_pun), 0, 24.5*sin(θ_cot) + 23.5*sin(θ_omb) + 6.5*sin(θ_pun)]]))"
      ]
     },
     "metadata": {},
     "output_type": "display_data"
    },
    {
     "data": {
      "text/latex": [
       "$\\displaystyle x_{goal} = 24.5 \\cos{\\left(θ_{cot} \\right)} + 23.5 \\cos{\\left(θ_{omb} \\right)} + 6.5 \\cos{\\left(θ_{pun} \\right)}$"
      ],
      "text/plain": [
       "Eq(x_goal, 24.5*cos(θ_cot) + 23.5*cos(θ_omb) + 6.5*cos(θ_pun))"
      ]
     },
     "metadata": {},
     "output_type": "display_data"
    },
    {
     "data": {
      "text/latex": [
       "$\\displaystyle z_{goal} = 24.5 \\sin{\\left(θ_{cot} \\right)} + 23.5 \\sin{\\left(θ_{omb} \\right)} + 6.5 \\sin{\\left(θ_{pun} \\right)}$"
      ],
      "text/plain": [
       "Eq(z_goal, 24.5*sin(θ_cot) + 23.5*sin(θ_omb) + 6.5*sin(θ_pun))"
      ]
     },
     "metadata": {},
     "output_type": "display_data"
    }
   ],
   "source": [
    "# Vetor resultante\n",
    "tmp_x = length_OMB*sp.cos(θ_omb) + length_COT*sp.cos(θ_cot) + length_PUN*sp.cos(θ_pun)\n",
    "tmp_z = length_OMB*sp.sin(θ_omb) + length_COT*sp.sin(θ_cot) + length_PUN*sp.sin(θ_pun)\n",
    "right = sp.Matrix([[tmp_x, 0, tmp_z]])\n",
    "\n",
    "eq_v = sp.Eq(v, right)\n",
    "display(eq_v)\n",
    "\n",
    "eq_x = sp.Eq(eq_v.lhs[0], eq_v.rhs[0])\n",
    "eq_z = sp.Eq(eq_v.lhs[2], eq_v.rhs[2])\n",
    "display(eq_x, eq_z)"
   ]
  },
  {
   "cell_type": "code",
   "execution_count": null,
   "metadata": {},
   "outputs": [],
   "source": []
  }
 ],
 "metadata": {
  "kernelspec": {
   "display_name": "Python 3.8.10 64-bit",
   "language": "python",
   "name": "python3"
  },
  "language_info": {
   "codemirror_mode": {
    "name": "ipython",
    "version": 3
   },
   "file_extension": ".py",
   "mimetype": "text/x-python",
   "name": "python",
   "nbconvert_exporter": "python",
   "pygments_lexer": "ipython3",
   "version": "3.8.10"
  },
  "orig_nbformat": 4,
  "vscode": {
   "interpreter": {
    "hash": "916dbcbb3f70747c44a77c7bcd40155683ae19c65e1c03b4aa3499c5328201f1"
   }
  }
 },
 "nbformat": 4,
 "nbformat_minor": 2
}
