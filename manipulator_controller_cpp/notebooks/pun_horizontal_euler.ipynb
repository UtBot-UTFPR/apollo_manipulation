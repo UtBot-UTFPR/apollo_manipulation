{
 "cells": [
  {
   "cell_type": "code",
   "execution_count": 10,
   "metadata": {},
   "outputs": [],
   "source": [
    "import sympy as sp\n",
    "import math\n",
    "from tf.transformations import euler_from_quaternion\n",
    "from geometry_msgs.msg import Point"
   ]
  },
  {
   "cell_type": "code",
   "execution_count": 25,
   "metadata": {},
   "outputs": [],
   "source": [
    "# Variáveis\n",
    "θ1, θ2, γ, λ, Δ, α = sp.symbols('θ1 θ2 γ λ Δ α')\n",
    "\n",
    "x_goal, y_goal, z_goal = sp.symbols('x_goal y_goal z_goal')\n",
    "\n",
    "v = sp.symbols(\"v\")\n",
    "v_roll, v_pitch, v_yaw = sp.symbols('v_roll v_pitch v_yaw')\n",
    "\n",
    "L_OMB, L_COT, L_PUN = sp.symbols(\"L_OMB, L_COT, L_PUN\")"
   ]
  },
  {
   "cell_type": "code",
   "execution_count": 12,
   "metadata": {},
   "outputs": [
    {
     "data": {
      "text/latex": [
       "$\\displaystyle v_{roll} = \\left( 1, \\  0, \\  0\\right)$"
      ],
      "text/plain": [
       "Eq(v_roll, (1, 0, 0))"
      ]
     },
     "metadata": {},
     "output_type": "display_data"
    },
    {
     "data": {
      "text/latex": [
       "$\\displaystyle v_{pitch} = \\left( 0, \\  1, \\  0\\right)$"
      ],
      "text/plain": [
       "Eq(v_pitch, (0, 1, 0))"
      ]
     },
     "metadata": {},
     "output_type": "display_data"
    },
    {
     "data": {
      "text/latex": [
       "$\\displaystyle v_{yaw} = \\left( 0, \\  0, \\  1\\right)$"
      ],
      "text/plain": [
       "Eq(v_yaw, (0, 0, 1))"
      ]
     },
     "metadata": {},
     "output_type": "display_data"
    }
   ],
   "source": [
    "# Vetores unitários de roll, pitch, yaw\n",
    "v_roll  = (1, 0, 0)\n",
    "v_pitch = (0, 1, 0)\n",
    "v_yaw   = (0, 0, 1)\n",
    "display(sp.Eq(sp.symbols(\"v_roll\"), v_roll))\n",
    "display(sp.Eq(sp.symbols(\"v_pitch\"), v_pitch))\n",
    "display(sp.Eq(sp.symbols(\"v_yaw\"), v_yaw))"
   ]
  },
  {
   "cell_type": "code",
   "execution_count": 13,
   "metadata": {},
   "outputs": [
    {
     "data": {
      "text/latex": [
       "$\\displaystyle v = \\left( x_{goal}, \\  y_{goal}, \\  z_{goal}\\right)$"
      ],
      "text/plain": [
       "Eq(v, (x_goal, y_goal, z_goal))"
      ]
     },
     "metadata": {},
     "output_type": "display_data"
    }
   ],
   "source": [
    "# Vetor v (aponta para o goal)\n",
    "v = sp.Tuple(x_goal, y_goal, z_goal)\n",
    "display(sp.Eq(sp.symbols(\"v\"), v))"
   ]
  },
  {
   "cell_type": "code",
   "execution_count": 14,
   "metadata": {},
   "outputs": [
    {
     "data": {
      "text/latex": [
       "$\\displaystyle v_{norm} = \\sqrt{x_{goal}^{2} + y_{goal}^{2} + z_{goal}^{2}}$"
      ],
      "text/plain": [
       "Eq(v_norm, sqrt(x_goal**2 + y_goal**2 + z_goal**2))"
      ]
     },
     "metadata": {},
     "output_type": "display_data"
    }
   ],
   "source": [
    "# Norma do vetor v\n",
    "v_norm = sp.sqrt(pow(x_goal, 2) + pow(y_goal, 2) + pow(z_goal, 2))\n",
    "display(sp.Eq(sp.symbols(\"v_norm\"), v_norm))"
   ]
  },
  {
   "cell_type": "code",
   "execution_count": 17,
   "metadata": {},
   "outputs": [
    {
     "data": {
      "text/latex": [
       "$\\displaystyle v_{EulerRot} = \\left( \\sqrt{x_{goal}^{2} + y_{goal}^{2} + z_{goal}^{2}} \\cos{\\left(Δ \\right)}, \\  0, \\  \\sqrt{x_{goal}^{2} + y_{goal}^{2} + z_{goal}^{2}} \\sin{\\left(Δ \\right)}\\right)$"
      ],
      "text/plain": [
       "Eq(v_EulerRot, (sqrt(x_goal**2 + y_goal**2 + z_goal**2)*cos(Δ), 0, sqrt(x_goal**2 + y_goal**2 + z_goal**2)*sin(Δ)))"
      ]
     },
     "metadata": {},
     "output_type": "display_data"
    }
   ],
   "source": [
    "# Vetor v (com rotação em euler)\n",
    "v_EulerRot = sp.Tuple(v_norm * sp.cos(Δ), 0, v_norm * sp.sin(Δ))\n",
    "display(sp.Eq(sp.symbols(\"v_EulerRot\"), v_EulerRot))"
   ]
  },
  {
   "cell_type": "code",
   "execution_count": 24,
   "metadata": {},
   "outputs": [
    {
     "data": {
      "text/latex": [
       "$\\displaystyle Δ = \\operatorname{asin}{\\left(\\frac{z_{goal}}{\\sqrt{x_{goal}^{2} + y_{goal}^{2} + z_{goal}^{2}}} \\right)}$"
      ],
      "text/plain": [
       "Eq(Δ, asin(z_goal/sqrt(x_goal**2 + y_goal**2 + z_goal**2)))"
      ]
     },
     "metadata": {},
     "output_type": "display_data"
    }
   ],
   "source": [
    "# Valor de delta\n",
    "val_Δ = sp.asin(z_goal/v_norm)\n",
    "display(sp.Eq(sp.symbols(\"Δ\"), val_Δ))"
   ]
  },
  {
   "cell_type": "code",
   "execution_count": 27,
   "metadata": {},
   "outputs": [
    {
     "data": {
      "text/latex": [
       "$\\displaystyle α = \\operatorname{acos}{\\left(\\frac{- L_{COT}^{2} + L_{OMB}^{2} + v^{2}}{2 L_{OMB} v} \\right)}$"
      ],
      "text/plain": [
       "Eq(α, acos((-L_COT**2 + L_OMB**2 + v**2)/(2*L_OMB*v)))"
      ]
     },
     "metadata": {},
     "output_type": "display_data"
    }
   ],
   "source": [
    "# Valor de alpha\n",
    "val_α = sp.acos((pow(v, 2)+pow(L_OMB, 2)-pow(L_COT, 2))/(2*v*L_OMB))\n",
    "display(sp.Eq(sp.symbols(\"α\"), val_α))"
   ]
  }
 ],
 "metadata": {
  "kernelspec": {
   "display_name": "Python 3.8.10 64-bit",
   "language": "python",
   "name": "python3"
  },
  "language_info": {
   "codemirror_mode": {
    "name": "ipython",
    "version": 3
   },
   "file_extension": ".py",
   "mimetype": "text/x-python",
   "name": "python",
   "nbconvert_exporter": "python",
   "pygments_lexer": "ipython3",
   "version": "3.8.10"
  },
  "orig_nbformat": 4,
  "vscode": {
   "interpreter": {
    "hash": "916dbcbb3f70747c44a77c7bcd40155683ae19c65e1c03b4aa3499c5328201f1"
   }
  }
 },
 "nbformat": 4,
 "nbformat_minor": 2
}
